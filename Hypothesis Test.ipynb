{
 "cells": [
  {
   "cell_type": "markdown",
   "metadata": {},
   "source": [
    "# Hypothesis Test\n",
    "\n",
    "Dalam analisis statistik, kita biasanya menggunakan data dari beberapa sampel yang dipilih untuk menarik kesimpulan tentang populasi tersebut. Suatu studi yang benar harus memastikan bahwa data sampel mewakili populasi (representatif):\n",
    "\n",
    "- Populasi: **himpunan pengukuran** (atau catatan beberapa sifat kualitatif) yang berhubungan dengan seluruh koleksi unit tentang informasi yang dicari.\n",
    "- Sampel adalah **himpunan bagian dari pengukuran**, yang terdiri dari beberapa unit, yang dihimpun dalam suatu penelitian/ investigasi.\n",
    "\n",
    "Misalkan suatu penelitian dilakukan untuk memperkirakan rata-rata berat badan bayi lahir di Kabupaten XYZ. Kita tidak mengambil semua data tentang berat bayi lahir di kabupaten tersebut, melainkan hanya beberapa sampel acak (yang harapannya representatif). Berdasarkan statistik sampel tersebut, kita dapat menduga tentang parameter (karakter populasi) yang sesuai dalam populasi.  \n",
    "\n",
    "- Parameter: Karakteristik populasi, seperti mean atau deviasi standar. Sering dinotasikan menggunakan huruf Yunani.\n",
    "- Statistik: Karakteristik sampel yang dapat diukur. Contoh statistik adalah: nilai rata-rata dari data sampel"
   ]
  },
  {
   "cell_type": "code",
   "execution_count": 2,
   "metadata": {},
   "outputs": [],
   "source": [
    "import numpy as np\n",
    "from scipy import stats\n",
    "import matplotlib.pyplot as plt"
   ]
  },
  {
   "cell_type": "markdown",
   "metadata": {},
   "source": [
    "## Normality test\n",
    "\n",
    "### Probability plot\n",
    "\n",
    "Dalam statistik terdapat banyak cara yang tersedia untuk menilai distribusi secara visual. Sejumlah metode grafis tersedia untuk membandingkan dua distribusi probabilitas dengan menggambar plot kuantitasnya, atau parameter yang terkait erat, satu sama lain [1]:\n",
    "1. QQ-Plots: \"Q\" dalam QQ-plot adalah singkatan dari kuantil (Quantile). Kuantil dari kumpulan data tertentu diplotkan terhadap kuantitas distribusi referensi, biasanya distribusi normal standar.\n",
    "2. Plot-PP: Plot CDF (fungsi-distribusi-kumulatif) dari kumpulan data tertentu terhadap CDF dari distribusi referensi.\n",
    "3. Plot Probabilitas: Plotkan nilai yang diurutkan dari kumpulan data tertentu terhadap jumlah distribusi referensi.\n",
    "\n",
    "Dengan Python, plot probabilitas dapat dibuat dengan perintah `stats.probplot (data, plot = plt)`"
   ]
  },
  {
   "cell_type": "code",
   "execution_count": 2,
   "metadata": {},
   "outputs": [],
   "source": [
    "mu, sigma = 0, 0.1 # mean and standard deviation\n",
    "s = np.random.normal(mu, sigma, 1000)"
   ]
  },
  {
   "cell_type": "code",
   "execution_count": 3,
   "metadata": {},
   "outputs": [
    {
     "data": {
      "image/png": "[encoded data removed]",
      "text/plain": [
       "<Figure size 432x288 with 1 Axes>"
      ]
     },
     "metadata": {
      "needs_background": "light"
     },
     "output_type": "display_data"
    }
   ],
   "source": [
    "# plot menggunakan package dari plt\n",
    "stats.probplot(s, plot = plt)\n",
    "plt.show()"
   ]
  },
  {
   "cell_type": "markdown",
   "metadata": {},
   "source": [
    "### Tests for Normality\n",
    "\n",
    "Dalam pengujian normalitas, tantangan yang berbeda dapat muncul: ukuran sampel data (kecil atau besar), nilai ekstrem/outlier/pencilan. Untuk mengatasi situasi yang berbeda, telah dikembangkan tes yang berbeda untuk normalitas. Tes untuk mengevaluasi normalitas (atau kesamaan dengan beberapa distribusi tertentu) secara luas dapat dibagi menjadi dua kategori [1]:\n",
    "1. Pengujian berdasarkan perbandingan (\"paling cocok\") dengan distribusi tertentu, sering kali ditentukan dalam istilah CDF-nya. Contohnya adalah tes Kolmogorov-Smirnov, tes Lilliefors, tes Anderson-Darling, kriteria Cramer-von Mises, serta tes Shapiro-Wilk dan Shapiro-Francia.\n",
    "2. Pengujian berdasarkan statistik deskriptif sampel. Contohnya adalah uji kemiringan, uji kurtosis, uji omnibus D’Agostino – Pearson, atau uji Jarque – Bera.\n",
    "\n",
    "Uji normalitas: Shapiro – Wilk, jarque-bera. Hipotesis nol untuk uji normalitas tersebut adalah\n",
    "$H_0$: data berdistribusi normal\n"
   ]
  },
  {
   "cell_type": "code",
   "execution_count": 4,
   "metadata": {},
   "outputs": [
    {
     "name": "stdout",
     "output_type": "stream",
     "text": [
      "stat=0.936, p=0.512\n",
      "Probably Normal\n"
     ]
    }
   ],
   "source": [
    "# Example of the Shapiro-Wilk test\n",
    "\n",
    "data = [30, 50, 35, 23, 34, 56, 12, 12, 37, 16]\n",
    "stat, p = stats.shapiro(data)\n",
    "\n",
    "# Optional: hanya digunakan untuk keperluan menampilkan hasil\n",
    "\n",
    "print('stat=%.3f, p=%.3f' % (stat, p))\n",
    "if p > 0.05:\n",
    "    print('Probably Normal')\n",
    "else:\n",
    "    print('Probably not Normal')"
   ]
  },
  {
   "cell_type": "code",
   "execution_count": 5,
   "metadata": {},
   "outputs": [
    {
     "data": {
      "text/plain": [
       "(0.5368735408672259, 0.764573764949138)"
      ]
     },
     "execution_count": 5,
     "metadata": {},
     "output_type": "execute_result"
    }
   ],
   "source": [
    "# Example of the jarque_bera test\n",
    "\n",
    "stat, p = stats.jarque_bera(data)\n",
    "stat, p"
   ]
  },
  {
   "cell_type": "markdown",
   "metadata": {},
   "source": [
    "### Manakah yang harus digunakan?    \n",
    "\n",
    "Sesuaikan dengan tujuan pengujian normalitas. Contohnya, pada data runtun waktu, beberapa sumber menyarankan pengujian melibatkan uji skewness, kurtosis. Berikut suatu jurnal mengenai perbandingan kekuatan uji normalitas [Comparisons of various types of normality tests](https://www.tandfonline.com/doi/pdf/10.1080/00949655.2010.520163). Berikut kesimpulannya: \n",
    "1. Untuk distribusi ekor pendek yang simetris, pengujian D’Agostino dan Shapiro – Wilk memiliki daya yang lebih baik. \n",
    "2. Untuk distribusi ekor panjang yang simetris, kekuatan uji Jarque – Bera dan D’Agostino cukup sebanding dengan uji Shapiro – Wilk. \n",
    "3. Sedangkan untuk distribusi asimetris, tes Shapiro-Wilk adalah tes terkuat yang diikuti oleh tes Anderson-Darling."
   ]
  },
  {
   "cell_type": "markdown",
   "metadata": {},
   "source": [
    "## Correlation Tests\n",
    "\n",
    "Terdapat beberapa metode untuk uji korelasi [2]:\n",
    "\n",
    "#### Pearson correlation\n",
    "\n",
    "Korelasi Pearson ($\\rho$), yang mengukur ketergantungan linier antara dua variabel (x dan y). Korelasi ini dikenal sebagai uji korelasi parametrik karena bergantung pada distribusi data. Selain itu, korelasi ini hanya dapat digunakan jika x dan y berasal dari distribusi normal. Plot dari y = f (x) dinamai kurva regresi linier.\n",
    "\n",
    "Berbeda dengan, koefisien korelasi peringkat Tau dan Spearman Kendall menilai asosiasi statistik berdasarkan peringkat data. Pemeringkatan data dilakukan pada variabel-variabel yang disusun secara terpisah dan diberi nomor.\n",
    "\n",
    "The hypothesis for $\\rho$ correlation (pearson):  \n",
    "\n",
    "$H_0: \\rho = 0$ (the variables are independent, that there is no correlation between them)   \n",
    "$H_1: \\rho \\ne 0$   \n",
    "\n",
    "#### Kendall correlation\n",
    "\n",
    "Asumsi dari Kendall [3]:\n",
    "\n",
    "Asumsi #1: Kedua variabel harus diukur pada **skala ordinal atau kontinu**. Contoh variabel ordinal termasuk skala Likert (misalnya, skala 7 poin dari sangat setuju hingga sangat tidak setuju), di antara cara lain untuk peringkat kategori (misalnya, skala 5 poin yang menjelaskan seberapa besar pelanggan menyukai suatu produk, mulai dari \" Tidak terlalu banyak \"hingga\" Ya, banyak \"). Contoh variabel kontinu (yaitu, variabel interval atau rasio) termasuk waktu revisi (diukur dalam jam), kecerdasan (diukur menggunakan skor IQ), kinerja ujian (diukur dari 0 hingga 100), berat (diukur dalam kg), dan sebagainya.      \n",
    "Asumsi #2: Tau-b Kendall menentukan apakah ada hubungan monotonik antara kedua variabel kita. Oleh karena itu, sebaiknya data kita tampak mengikuti hubungan monotonik, sehingga pengujian formal untuk keterkaitan semacam itu masuk akal, tetapi ini bukan asumsi yang ketat.\n",
    "\n",
    "Hubungan monotonik adalah hubungan dari salah satu hal berikut: (1) seiring dengan meningkatnya nilai satu variabel, begitu pula nilai variabel lainnya; atau (2) ketika nilai satu variabel meningkat, nilai variabel lainnya menurun.\n",
    "\n",
    "![Gambar Hubungan Monotonik dan Non-Monotonik](https://statistics.laerd.com/statistical-guides/img/spearman-1-small.png)\n",
    "\n",
    "Contoh persoalan yang diselesaikan dengan korelasi tipe ini: korelasi antara nilai ujian (A, B, C, D, E) dengan waktu yang dihabiskan pada sosial media per hari (1-2 hours, 3-4 hours, 4-5 hours, more than 5 hours).\n",
    "\n",
    "Hipotesis untuk Kendall (korelasi $\\tau$) yaitu $H_0: \\tau = 0$ (Variabel-variabelnya independen, atau tidak terdapat korelasi antara variabel). Akan tetapi, perbedaan antara korelasi $\\rho$ dan korelasi $\\tau$ adalah bahwa kita dapat memiliki satu dari tiga alternatif hipotesis untuk korelasi $\\tau$:    \n",
    "1. Two sided: $H_1: \\tau \\ne 0$\n",
    "2. One sided: $H_1: \\tau > 0$ or $H_1: \\tau < 0$\n"
   ]
  },
  {
   "cell_type": "code",
   "execution_count": 6,
   "metadata": {},
   "outputs": [
    {
     "data": {
      "text/plain": [
       "(0.6736156288938372, 0.03272344965745216)"
      ]
     },
     "execution_count": 6,
     "metadata": {},
     "output_type": "execute_result"
    }
   ],
   "source": [
    "# Example of the Pearson's Correlation test\n",
    "\n",
    "data1 = [23, 12, 14, 33, 25, 28, 29, 19, 17, 30]\n",
    "data2 = [50, 54, 40, 77, 44, 46, 67, 45, 49, 77]\n",
    "stat, p = stats.pearsonr(data1, data2)\n",
    "\n",
    "stat, p"
   ]
  },
  {
   "cell_type": "code",
   "execution_count": 7,
   "metadata": {},
   "outputs": [
    {
     "data": {
      "text/plain": [
       "(0.5835893219328621, 0.07653771742823341)"
      ]
     },
     "execution_count": 7,
     "metadata": {},
     "output_type": "execute_result"
    }
   ],
   "source": [
    "# Example of Spearman Correlation test\n",
    "stat, p = stats.spearmanr(data1, data2)\n",
    "stat, p"
   ]
  },
  {
   "cell_type": "markdown",
   "metadata": {},
   "source": [
    "**Example 1**: From Armitage and Berry (1994, p. 466). Test workbook (Nonparametric worksheet: Career, Psychology). The following data represent a tutor's ranking of ten clinical psychology students as to their suitability for their career and their knowledge of psychology:   \n",
    "\n",
    "Career    | Psychology |  \n",
    "-----| ----- |\n",
    "4|5     \n",
    "10|8  \n",
    "3|6  \n",
    "1|2   \n",
    "9|10   \n",
    "2|3    \n",
    "6|9   \n",
    "7|4    \n",
    "8|7   \n",
    "5|1   \n",
    " \n",
    "\n"
   ]
  },
  {
   "cell_type": "code",
   "execution_count": 8,
   "metadata": {},
   "outputs": [
    {
     "data": {
      "text/plain": [
       "(0.49441323247304414, 0.04819348829319082)"
      ]
     },
     "execution_count": 8,
     "metadata": {},
     "output_type": "execute_result"
    }
   ],
   "source": [
    "career = [4, 10, 3, 2, 9, 2, 6, 7, 8, 5]\n",
    "psy = [5, 8, 6, 2, 10, 3, 9, 4, 7, 1]\n",
    "stat, p = stats.kendalltau(career, psy) # two sided\n",
    "\n",
    "stat, p"
   ]
  },
  {
   "cell_type": "markdown",
   "metadata": {},
   "source": [
    "**Example 2**: Ukurlah hubungan antara nilai ujian (A, B, C, D), dengan lama waktu bersosial media (1-2, 2-3, 3-4, >5). Oleh karena skalanya ordinal, maka perlu diubah terlebih dahulu. Nilai (A=1, B=2, C=3, D=4), dan waktu (1-2:1, 2-3:2, 3-4:3, >5: 4) "
   ]
  },
  {
   "cell_type": "code",
   "execution_count": 9,
   "metadata": {},
   "outputs": [
    {
     "data": {
      "text/plain": [
       "(0.6191034846198453, 0.04566045451954555)"
      ]
     },
     "execution_count": 9,
     "metadata": {},
     "output_type": "execute_result"
    }
   ],
   "source": [
    "a = [2, 1, 3, 4, 1, 2, 3, 2, 1]\n",
    "b = [2, 1, 2, 3, 1, 1, 3, 1, 2]\n",
    "s, p = stats.kendalltau(a, b)\n",
    "\n",
    "s, p"
   ]
  },
  {
   "cell_type": "markdown",
   "metadata": {},
   "source": [
    "## Stationary Tests  \n",
    "\n",
    "Suatu data runtun waktu $Y_t (t = 1,2 ...)$ dikatakan stasioner (dalam arti lemah/weak) jika sifat statistiknya tidak bervariasi terhadap waktu (ekspektasi, varians, autokorelasi). White noise adalah contoh deret waktu stasioner, dengan contoh kasus yaitu $Y_t$ mengikuti distribusi normal $N (\\mu, \\sigma^2)$ tidak bergantung pada t.\n",
    "\n",
    "Uji yang umumnya digunakan untuk stasioneritas adalah is ADF (Augmented Dickey Fuller test). Hipotesisnya yaitu:  \n",
    "$H_0: \\delta = 0$ (data tidak stasioner karena mengandung akar unit/unit root)"
   ]
  },
  {
   "cell_type": "code",
   "execution_count": 10,
   "metadata": {},
   "outputs": [
    {
     "data": {
      "text/plain": [
       "array([2.51616464, 7.60796701, 5.64586826, 2.38595045, 2.41634591,\n",
       "       5.5542623 , 4.85324443, 6.47985059, 0.65430166, 9.16029046])"
      ]
     },
     "execution_count": 10,
     "metadata": {},
     "output_type": "execute_result"
    }
   ],
   "source": [
    "# ADF test\n",
    "yt = np.random.normal(loc=5, scale = 2, size=10)\n",
    "yt"
   ]
  },
  {
   "cell_type": "code",
   "execution_count": 11,
   "metadata": {},
   "outputs": [
    {
     "name": "stderr",
     "output_type": "stream",
     "text": [
      "C:\\Users\\ASUS\\Anaconda3\\lib\\site-packages\\statsmodels\\regression\\linear_model.py:1510: RuntimeWarning: divide by zero encountered in double_scalars\n",
      "  return np.dot(wresid, wresid) / self.df_resid\n"
     ]
    },
    {
     "data": {
      "text/plain": [
       "(-0.0, 0.958532086060056)"
      ]
     },
     "execution_count": 11,
     "metadata": {},
     "output_type": "execute_result"
    }
   ],
   "source": [
    "from statsmodels.tsa.stattools import adfuller\n",
    "stat, p, lags, obs, crit, t = adfuller(yt)\n",
    "stat, p"
   ]
  },
  {
   "cell_type": "code",
   "execution_count": 12,
   "metadata": {},
   "outputs": [
    {
     "data": {
      "text/plain": [
       "(6,\n",
       " {'1%': -10.41719074074074,\n",
       "  '5%': -5.77838074074074,\n",
       "  '10%': -3.391681111111111})"
      ]
     },
     "execution_count": 12,
     "metadata": {},
     "output_type": "execute_result"
    }
   ],
   "source": [
    "lags, crit"
   ]
  },
  {
   "cell_type": "markdown",
   "metadata": {},
   "source": [
    "## Uji Rata-Rata\n",
    "\n",
    "The test for one mean: one sample t-test   \n",
    "The test for comparing two means: t-test paired and independent    \n",
    "The test for comparing more than two means: anova   "
   ]
  },
  {
   "cell_type": "markdown",
   "metadata": {},
   "source": [
    "### One sample t-test\n",
    "\n",
    "Fungsi dari one-sample t-test: `stats.ttest_1samp(data, popmean)`\n",
    "\n",
    "Contoh: Diketahui suatu data = [3, 4, 6, 7, 4, 5, 5, 9, 10, 5, 8, 8, 9, 9]. Akan dilakukan uji hipotesis 1 sampel, untuk mengetahui apakah mean data sama dengan 5. Hipotesis untuk ujinya adalah   \n",
    "$H_0: \\mu = 5$    \n",
    "$H_1: \\mu \\ne 5$"
   ]
  },
  {
   "cell_type": "code",
   "execution_count": 13,
   "metadata": {},
   "outputs": [
    {
     "data": {
      "text/plain": [
       "(2.581715367209975, 0.022782422702715216)"
      ]
     },
     "execution_count": 13,
     "metadata": {},
     "output_type": "execute_result"
    }
   ],
   "source": [
    "# two sided one-sample t-test\n",
    "aa = [3, 4, 6, 7, 4, 5, 5, 9, 10, 5, 8, 8, 9, 9]\n",
    "t, pVal = stats.ttest_1samp(aa, popmean=5)\n",
    "t, pVal"
   ]
  },
  {
   "cell_type": "markdown",
   "metadata": {},
   "source": [
    "Berdasarkan hasil, p-value=0.02 yang lebih kecil dari $\\alpha=0.05$, sehingga tolak $H_0$.   \n",
    "\n",
    "Bagaimana dengan uji one-sided? \n",
    "Apabila kita hitung mean dari sampel akan diperoleh nilai 6.57. Namun, apakah mean populasi juga akan bernilai **lebih dari 5**?   \n",
    "\n",
    "Hipotesis yang kita gunakan yaitu:   \n",
    "$H_0: \\mu = 5$    \n",
    "$H_1: \\mu > 5$"
   ]
  },
  {
   "cell_type": "code",
   "execution_count": 14,
   "metadata": {},
   "outputs": [
    {
     "data": {
      "text/plain": [
       "0.011391211351357608"
      ]
     },
     "execution_count": 14,
     "metadata": {},
     "output_type": "execute_result"
    }
   ],
   "source": [
    "# Jika menggunakan one sided maka cukup membagi dua p-value pada hasil two-sided yaitu p-value/2\n",
    "\n",
    "pVal/2"
   ]
  },
  {
   "cell_type": "markdown",
   "metadata": {},
   "source": [
    "Berdasarkan hasil, p-value=0.01 yang jauh lebih kecil dari $\\alpha=0.05$, sehingga tolak $H_0$. Artinya, dengan tingkat kepercayaan 95%, mean populasi secara signifikan lebih besar daripada 5. "
   ]
  },
  {
   "cell_type": "markdown",
   "metadata": {},
   "source": [
    "### Two sample t-test\n",
    "\n",
    "Fungsi yang digunakan untuk menguji perbedaan rata-rata dua populasi yang independen yaitu `stats.ttest_ind(a, b, axis=0, equal_var=True, nan_policy='propagate')` \n",
    "\n",
    "Fungsi yang digunakan untuk uji perbedaan rata-rata dua populasi berpasangan (paire): `stats.ttest_rel(a, b, axis=0, nan_policy='propagate')`"
   ]
  },
  {
   "cell_type": "markdown",
   "metadata": {},
   "source": [
    "**Contoh 1**: Diketahui dua sampel data random, dengan kunci random 123. Ujilah dengan t-test independen, variansi tidak sama. Hipotesis yang digunakan    \n",
    "Hipotesis yang kita gunakan yaitu:   \n",
    "$H_0: \\mu_1 - \\mu_2 = 0$    \n",
    "$H_1: \\mu_1 - \\mu_2 \\ne 0$"
   ]
  },
  {
   "cell_type": "code",
   "execution_count": 1,
   "metadata": {},
   "outputs": [
    {
     "ename": "NameError",
     "evalue": "name 'np' is not defined",
     "output_type": "error",
     "traceback": [
      "\u001b[1;31m---------------------------------------------------------------------------\u001b[0m",
      "\u001b[1;31mNameError\u001b[0m                                 Traceback (most recent call last)",
      "\u001b[1;32m<ipython-input-1-4ef90d131d98>\u001b[0m in \u001b[0;36m<module>\u001b[1;34m\u001b[0m\n\u001b[0;32m      1\u001b[0m \u001b[1;31m# Uji perbedaan rata-rata 2 populasi, dengan variansi tidak sama\u001b[0m\u001b[1;33m\u001b[0m\u001b[1;33m\u001b[0m\u001b[1;33m\u001b[0m\u001b[0m\n\u001b[0;32m      2\u001b[0m \u001b[1;33m\u001b[0m\u001b[0m\n\u001b[1;32m----> 3\u001b[1;33m \u001b[0mnp\u001b[0m\u001b[1;33m.\u001b[0m\u001b[0mrandom\u001b[0m\u001b[1;33m.\u001b[0m\u001b[0mseed\u001b[0m\u001b[1;33m(\u001b[0m\u001b[1;36m123\u001b[0m\u001b[1;33m)\u001b[0m\u001b[1;33m\u001b[0m\u001b[1;33m\u001b[0m\u001b[0m\n\u001b[0m\u001b[0;32m      4\u001b[0m \u001b[0mdata1\u001b[0m \u001b[1;33m=\u001b[0m \u001b[0mstats\u001b[0m\u001b[1;33m.\u001b[0m\u001b[0mnorm\u001b[0m\u001b[1;33m.\u001b[0m\u001b[0mrvs\u001b[0m\u001b[1;33m(\u001b[0m\u001b[0mloc\u001b[0m\u001b[1;33m=\u001b[0m\u001b[1;36m5\u001b[0m\u001b[1;33m,\u001b[0m\u001b[0mscale\u001b[0m\u001b[1;33m=\u001b[0m\u001b[1;36m10\u001b[0m\u001b[1;33m,\u001b[0m\u001b[0msize\u001b[0m\u001b[1;33m=\u001b[0m\u001b[1;36m500\u001b[0m\u001b[1;33m)\u001b[0m\u001b[1;33m\u001b[0m\u001b[1;33m\u001b[0m\u001b[0m\n\u001b[0;32m      5\u001b[0m \u001b[0mdata2\u001b[0m \u001b[1;33m=\u001b[0m \u001b[0mstats\u001b[0m\u001b[1;33m.\u001b[0m\u001b[0mnorm\u001b[0m\u001b[1;33m.\u001b[0m\u001b[0mrvs\u001b[0m\u001b[1;33m(\u001b[0m\u001b[0mloc\u001b[0m\u001b[1;33m=\u001b[0m\u001b[1;36m5\u001b[0m\u001b[1;33m,\u001b[0m\u001b[0mscale\u001b[0m\u001b[1;33m=\u001b[0m\u001b[1;36m10\u001b[0m\u001b[1;33m,\u001b[0m\u001b[0msize\u001b[0m\u001b[1;33m=\u001b[0m\u001b[1;36m500\u001b[0m\u001b[1;33m)\u001b[0m\u001b[1;33m\u001b[0m\u001b[1;33m\u001b[0m\u001b[0m\n",
      "\u001b[1;31mNameError\u001b[0m: name 'np' is not defined"
     ]
    }
   ],
   "source": [
    "# Uji perbedaan rata-rata 2 populasi, dengan variansi tidak sama\n",
    "\n",
    "np.random.seed(123)\n",
    "data1 = stats.norm.rvs(loc=5,scale=10,size=500)\n",
    "data2 = stats.norm.rvs(loc=5,scale=10,size=500)\n",
    "\n",
    "a, b = stats.ttest_ind(data1,data2, equal_var = False)"
   ]
  },
  {
   "cell_type": "code",
   "execution_count": 16,
   "metadata": {},
   "outputs": [
    {
     "data": {
      "text/plain": [
       "(0.02904612003069042, 0.9768336149579994)"
      ]
     },
     "execution_count": 16,
     "metadata": {},
     "output_type": "execute_result"
    }
   ],
   "source": [
    "# a, b berturut-turut adalah statistik dan p-value\n",
    "a, b"
   ]
  },
  {
   "cell_type": "markdown",
   "metadata": {},
   "source": [
    "**Contoh 2**: Diketahui dua sampel data random, dengan kunci random 456. Ujilah dengan t-test paired, variansi tidak sama. Hipotesis yang digunakan    \n",
    "Hipotesis yang kita gunakan yaitu:   \n",
    "$H_0: \\mu_d = 0$    \n",
    "$H_1: \\mu_d \\ne 0$"
   ]
  },
  {
   "cell_type": "code",
   "execution_count": 17,
   "metadata": {},
   "outputs": [],
   "source": [
    "# Uji perbedaan rata-rata 2 populasi berpasangan\n",
    "\n",
    "np.random.seed(456)\n",
    "data1 = stats.norm.rvs(loc=8,scale=10,size=50)\n",
    "data2 = stats.norm.rvs(loc=8,scale=10,size=50)\n",
    "\n",
    "a, b = stats.ttest_rel(data1,data2)"
   ]
  },
  {
   "cell_type": "code",
   "execution_count": 18,
   "metadata": {},
   "outputs": [
    {
     "data": {
      "text/plain": [
       "(-0.22111035345211244, 0.8259253278353127)"
      ]
     },
     "execution_count": 18,
     "metadata": {},
     "output_type": "execute_result"
    }
   ],
   "source": [
    "a, b"
   ]
  },
  {
   "cell_type": "markdown",
   "metadata": {},
   "source": [
    "### ANOVA\n",
    "\n",
    "Salah satu fungsi yang digunakan untuk ANOVA yaitu: `stats.f_oneway(*args)`\n",
    "\n",
    "Example: Here are some data on a shell measurement (the length of the anterior adductor muscle scar, standardized by dividing by length) in the mussel Mytilus trossulus from five locations: Tillamook, Oregon; Newport, Oregon; Petersburg, Alaska; Magadan, Russia; and Tvarminne, Finland, taken from a much larger data set used in McDonald et al. (1991)[4].   \n",
    "\n",
    "Hipotesis yang digunakan:    \n",
    "$H_0: \\mu_1=\\mu_2=...=\\mu_5$    \n",
    "$H_1: \\mu_i \\ne \\mu_j$ dengan $i, j = 1, 2, ..., 5; i \\ne j$"
   ]
  },
  {
   "cell_type": "code",
   "execution_count": 19,
   "metadata": {},
   "outputs": [
    {
     "data": {
      "text/plain": [
       "F_onewayResult(statistic=7.121019471642447, pvalue=0.0002812242314534544)"
      ]
     },
     "execution_count": 19,
     "metadata": {},
     "output_type": "execute_result"
    }
   ],
   "source": [
    "tillamook = [0.0571, 0.0813, 0.0831, 0.0976, 0.0817, 0.0859, 0.0735,\n",
    "             0.0659, 0.0923, 0.0836]\n",
    "newport = [0.0873, 0.0662, 0.0672, 0.0819, 0.0749, 0.0649, 0.0835,\n",
    "           0.0725]\n",
    "petersburg = [0.0974, 0.1352, 0.0817, 0.1016, 0.0968, 0.1064, 0.105]\n",
    "magadan = [0.1033, 0.0915, 0.0781, 0.0685, 0.0677, 0.0697, 0.0764,\n",
    "           0.0689]\n",
    "tvarminne = [0.0703, 0.1026, 0.0956, 0.0973, 0.1039, 0.1045]\n",
    "\n",
    "\n",
    "stats.f_oneway(tillamook, newport, petersburg, magadan, tvarminne)"
   ]
  },
  {
   "cell_type": "markdown",
   "metadata": {},
   "source": [
    "Reference:\n",
    "1. Haslwanter, Thomas. An Introduction to Statictics with Python. Springer. \n",
    "2. http://www.sthda.com/english/wiki/correlation-test-between-two-variables-in-r\n",
    "3. https://statistics.laerd.com/spss-tutorials/kendalls-tau-b-using-spss-statistics.php\n",
    "4. https://docs.scipy.org/doc/scipy/reference/generated/scipy.stats.f_oneway.html"
   ]
  },
  {
   "cell_type": "code",
   "execution_count": null,
   "metadata": {},
   "outputs": [],
   "source": []
  }
 ],
 "metadata": {
  "kernelspec": {
   "display_name": "Python 3",
   "language": "python",
   "name": "python3"
  },
  "language_info": {
   "codemirror_mode": {
    "name": "ipython",
    "version": 3
   },
   "file_extension": ".py",
   "mimetype": "text/x-python",
   "name": "python",
   "nbconvert_exporter": "python",
   "pygments_lexer": "ipython3",
   "version": "3.7.3"
  }
 },
 "nbformat": 4,
 "nbformat_minor": 2
}
